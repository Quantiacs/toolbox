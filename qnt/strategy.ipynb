{
 "cells": [
  {
   "cell_type": "markdown",
   "metadata": {},
   "source": [
    "# Empty"
   ]
  },
  {
   "cell_type": "code",
   "execution_count": null,
   "metadata": {},
   "outputs": [],
   "source": [
    "when you "
   ]
  },
  {
   "cell_type": "markdown",
   "metadata": {},
   "source": [
    "This snippet disables scrolling."
   ]
  },
  {
   "cell_type": "code",
   "execution_count": null,
   "metadata": {},
   "outputs": [],
   "source": [
    "%%javascript\n",
    "IPython.OutputArea.prototype._should_scroll = function(lines) { return false; }"
   ]
  },
  {
   "cell_type": "code",
   "execution_count": null,
   "metadata": {
    "scrolled": false
   },
   "outputs": [],
   "source": [
    "import xarray as xr\n",
    "\n",
    "import qnt.ta as qnta\n",
    "import qnt.backtester as qnbt\n",
    "import qnt.data as qndata\n",
    "\n",
    "\n",
    "def load_data(period):\n",
    "    return qndata.futures_load_data(tail=period)\n",
    "\n",
    "\n",
    "def strategy(data):\n",
    "    close = data.sel(field='close')\n",
    "    sma200 = qnta.sma(close, 200).isel(time=-1)\n",
    "    sma20 = qnta.sma(close, 20).isel(time=-1)\n",
    "    return xr.where(sma200 < sma20, 1, 0)\n",
    "\n",
    "\n",
    "qnbt.backtest(\n",
    "    competition_type=\"futures\",\n",
    "    load_data=load_data,\n",
    "    lookback_period=365,\n",
    "    test_period=15*365,\n",
    "    strategy=strategy\n",
    ")"
   ]
  },
  {
   "cell_type": "code",
   "execution_count": null,
   "metadata": {},
   "outputs": [],
   "source": [
    "import xarray as xr\n",
    "import numpy as np\n",
    "\n",
    "import qnt.ta as qnta\n",
    "import qnt.backtester as qnbt\n",
    "import qnt.data as qndata\n",
    "\n",
    "\n",
    "def load_data(period):\n",
    "    futures = qndata.futures_load_data(tail=period)\n",
    "    crypto = qndata.crypto_load_data(tail=period)\n",
    "    return { \"futures\": futures, \"crypto\": crypto }, futures.time.values\n",
    "\n",
    "\n",
    "def window(data, max_date: np.datetime64, lookback_period:int):\n",
    "    min_date = max_date - np.timedelta64(lookback_period,'D')\n",
    "    return {\n",
    "        \"futures\":data['futures'].sel(time=slice(min_date,max_date)),\n",
    "        \"crypto\":data['crypto'].sel(time=slice(min_date,max_date)),\n",
    "    }\n",
    "\n",
    "\n",
    "def strategy(data):\n",
    "    close = data['futures'].sel(field='close')\n",
    "    sma200 = qnta.sma(close, 200).isel(time=-1)\n",
    "    sma20 = qnta.sma(close, 20).isel(time=-1)\n",
    "    return xr.where(sma200 < sma20, 1, 0)\n",
    "\n",
    "\n",
    "qnbt.backtest(\n",
    "    competition_type=\"futures\",\n",
    "    load_data=load_data,\n",
    "    lookback_period=365,\n",
    "    test_period=2*365,\n",
    "    strategy=strategy,\n",
    "    window=window\n",
    ")"
   ]
  }
 ],
 "metadata": {
  "@webio": {
   "lastCommId": null,
   "lastKernelId": null
  },
  "kernelspec": {
   "display_name": "Python 3",
   "language": "python",
   "name": "python3"
  },
  "language_info": {
   "codemirror_mode": {
    "name": "ipython",
    "version": 3
   },
   "file_extension": ".py",
   "mimetype": "text/x-python",
   "name": "python",
   "nbconvert_exporter": "python",
   "pygments_lexer": "ipython3",
   "version": "3.7.6"
  }
 },
 "nbformat": 4,
 "nbformat_minor": 2
}
